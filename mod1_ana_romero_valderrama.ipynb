{
 "cells": [
  {
   "cell_type": "code",
   "execution_count": 1,
   "id": "fdf3a425",
   "metadata": {},
   "outputs": [],
   "source": [
    "## Estructura\n",
    "inventario = []\n",
    "\n",
    "clientes = { 'Ana García': {'email': 'ana.garcia@email.com', 'compras': []}, \n",
    "    'Luis Fernández': {'email': 'luis.fernandez@email.com', 'compras': []}, \n",
    "    'María López': {'email': 'maria.lopez@email.com', 'compras': []}, \n",
    "    'Carlos Ruiz': {'email': 'carlos.ruiz@email.com', 'compras': []}, \n",
    "    'Elena Martín': {'email': 'elena.martin@email.com', 'compras': []}, \n",
    "    'Javier Torres': {'email': 'javier.torres@email.com', 'compras': []}, \n",
    "    'Lucía Sánchez': {'email': 'lucia.sanchez@email.com', 'compras': []}, \n",
    "    'Sergio Díaz': {'email': 'sergio.diaz@email.com', 'compras': []}, \n",
    "    'Patricia Ramos': {'email': 'patricia.ramos@email.com', 'compras':[]}, \n",
    "    'Diego Navarro': {'email': 'diego.navarro@email.com', 'compras': []} } \n",
    "\n",
    "ventas_totales = 0.0\n"
   ]
  },
  {
   "cell_type": "code",
   "execution_count": 2,
   "id": "7b2b87d3",
   "metadata": {},
   "outputs": [],
   "source": [
    "# agregar un producto al inventario o actualizarlo\n",
    "\n",
    "def agregar_producto (nombre,precio,cantidad):\n",
    "    for producto in inventario:\n",
    "        if producto [\"nombre\"] == nombre:\n",
    "            producto [\"cantidad\"] += cantidad\n",
    "            return \"cantidad de producto actualizada\"\n",
    "    nuevo_producto = {\"nombre\":nombre,\n",
    "                      \"precio\":precio,\n",
    "                      \"cantidad\":cantidad}\n",
    "    inventario.append(nuevo_producto)\n",
    "    return \"producto añadido\""
   ]
  },
  {
   "cell_type": "code",
   "execution_count": 3,
   "id": "1e73f498",
   "metadata": {},
   "outputs": [
    {
     "data": {
      "text/plain": [
       "'producto añadido'"
      ]
     },
     "execution_count": 3,
     "metadata": {},
     "output_type": "execute_result"
    }
   ],
   "source": [
    "agregar_producto(\"camisa\",20,50)"
   ]
  },
  {
   "cell_type": "code",
   "execution_count": 4,
   "id": "04d4725f",
   "metadata": {},
   "outputs": [
    {
     "data": {
      "text/plain": [
       "'producto añadido'"
      ]
     },
     "execution_count": 4,
     "metadata": {},
     "output_type": "execute_result"
    }
   ],
   "source": [
    "agregar_producto(\"pantalon\",30,30)"
   ]
  },
  {
   "cell_type": "code",
   "execution_count": 5,
   "id": "d0b98115",
   "metadata": {},
   "outputs": [
    {
     "data": {
      "text/plain": [
       "'producto añadido'"
      ]
     },
     "execution_count": 5,
     "metadata": {},
     "output_type": "execute_result"
    }
   ],
   "source": [
    "agregar_producto(\"zapatos\",50,40)"
   ]
  },
  {
   "cell_type": "code",
   "execution_count": 6,
   "id": "2d6c7788",
   "metadata": {},
   "outputs": [
    {
     "name": "stdout",
     "output_type": "stream",
     "text": [
      "[{'nombre': 'camisa', 'precio': 20, 'cantidad': 50}, {'nombre': 'pantalon', 'precio': 30, 'cantidad': 30}, {'nombre': 'zapatos', 'precio': 50, 'cantidad': 40}]\n"
     ]
    }
   ],
   "source": [
    "print(inventario)"
   ]
  },
  {
   "cell_type": "code",
   "execution_count": 7,
   "id": "5c4cdb67",
   "metadata": {},
   "outputs": [],
   "source": [
    "# mostrar inventario de productos con sus detalles\n",
    "\n",
    "def ver_inventario (inventario):\n",
    "    for producto in inventario:\n",
    "        print (f\" nombre:{producto [\"nombre\"]}, precio:{producto[\"precio\"]},cantidad:{producto[\"cantidad\"]}\")"
   ]
  },
  {
   "cell_type": "code",
   "execution_count": 8,
   "id": "b90bc04f",
   "metadata": {},
   "outputs": [
    {
     "name": "stdout",
     "output_type": "stream",
     "text": [
      "[{'nombre': 'camisa', 'precio': 20, 'cantidad': 50}, {'nombre': 'pantalon', 'precio': 30, 'cantidad': 30}, {'nombre': 'zapatos', 'precio': 50, 'cantidad': 40}]\n"
     ]
    }
   ],
   "source": [
    "print(inventario)"
   ]
  },
  {
   "cell_type": "code",
   "execution_count": 9,
   "id": "1f67f802",
   "metadata": {},
   "outputs": [
    {
     "name": "stdout",
     "output_type": "stream",
     "text": [
      " nombre:camisa, precio:20,cantidad:50\n",
      " nombre:pantalon, precio:30,cantidad:30\n",
      " nombre:zapatos, precio:50,cantidad:40\n"
     ]
    }
   ],
   "source": [
    "ver_inventario(inventario)"
   ]
  }
 ],
 "metadata": {
  "kernelspec": {
   "display_name": "Python 3",
   "language": "python",
   "name": "python3"
  },
  "language_info": {
   "codemirror_mode": {
    "name": "ipython",
    "version": 3
   },
   "file_extension": ".py",
   "mimetype": "text/x-python",
   "name": "python",
   "nbconvert_exporter": "python",
   "pygments_lexer": "ipython3",
   "version": "3.13.7"
  }
 },
 "nbformat": 4,
 "nbformat_minor": 5
}
