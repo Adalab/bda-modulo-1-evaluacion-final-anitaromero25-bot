{
 "cells": [
  {
   "cell_type": "code",
   "execution_count": 1,
   "id": "fdf3a425",
   "metadata": {},
   "outputs": [],
   "source": [
    "## Estructura\n",
    "inventario = []\n",
    "\n",
    "clientes = { 'Ana García': {'email': 'ana.garcia@email.com', 'compras': []}, \n",
    "    'Luis Fernández': {'email': 'luis.fernandez@email.com', 'compras': []}, \n",
    "    'María López': {'email': 'maria.lopez@email.com', 'compras': []}, \n",
    "    'Carlos Ruiz': {'email': 'carlos.ruiz@email.com', 'compras': []}, \n",
    "    'Elena Martín': {'email': 'elena.martin@email.com', 'compras': []}, \n",
    "    'Javier Torres': {'email': 'javier.torres@email.com', 'compras': []}, \n",
    "    'Lucía Sánchez': {'email': 'lucia.sanchez@email.com', 'compras': []}, \n",
    "    'Sergio Díaz': {'email': 'sergio.diaz@email.com', 'compras': []}, \n",
    "    'Patricia Ramos': {'email': 'patricia.ramos@email.com', 'compras':[]}, \n",
    "    'Diego Navarro': {'email': 'diego.navarro@email.com', 'compras': []} } \n",
    "\n",
    "ventas_totales = 0.0\n"
   ]
  },
  {
   "cell_type": "code",
   "execution_count": 2,
   "id": "7b2b87d3",
   "metadata": {},
   "outputs": [],
   "source": [
    "# agregar un producto al inventario o actualizarlo\n",
    "\n",
    "def agregar_producto (nombre,precio,cantidad):\n",
    "    for producto in inventario:\n",
    "        if producto [\"nombre\"] == nombre:\n",
    "            producto [\"cantidad\"] += cantidad\n",
    "            return \"cantidad de producto actualizada\"\n",
    "    nuevo_producto = {\"nombre\":nombre,\n",
    "                      \"precio\":precio,\n",
    "                      \"cantidad\":cantidad}\n",
    "    inventario.append(nuevo_producto)\n",
    "    return \"producto añadido\""
   ]
  },
  {
   "cell_type": "code",
   "execution_count": 3,
   "id": "1e73f498",
   "metadata": {},
   "outputs": [
    {
     "data": {
      "text/plain": [
       "'producto añadido'"
      ]
     },
     "execution_count": 3,
     "metadata": {},
     "output_type": "execute_result"
    }
   ],
   "source": [
    "agregar_producto(\"camisa\",20,50)"
   ]
  },
  {
   "cell_type": "code",
   "execution_count": 4,
   "id": "04d4725f",
   "metadata": {},
   "outputs": [
    {
     "data": {
      "text/plain": [
       "'producto añadido'"
      ]
     },
     "execution_count": 4,
     "metadata": {},
     "output_type": "execute_result"
    }
   ],
   "source": [
    "agregar_producto(\"pantalon\",30,30)"
   ]
  },
  {
   "cell_type": "code",
   "execution_count": 5,
   "id": "d0b98115",
   "metadata": {},
   "outputs": [
    {
     "data": {
      "text/plain": [
       "'producto añadido'"
      ]
     },
     "execution_count": 5,
     "metadata": {},
     "output_type": "execute_result"
    }
   ],
   "source": [
    "agregar_producto(\"zapatos\",50,40)"
   ]
  },
  {
   "cell_type": "code",
   "execution_count": 6,
   "id": "9587ca9f",
   "metadata": {},
   "outputs": [
    {
     "data": {
      "text/plain": [
       "'cantidad de producto actualizada'"
      ]
     },
     "execution_count": 6,
     "metadata": {},
     "output_type": "execute_result"
    }
   ],
   "source": [
    "agregar_producto(\"pantalon\",30,5)"
   ]
  },
  {
   "cell_type": "code",
   "execution_count": 7,
   "id": "2d6c7788",
   "metadata": {},
   "outputs": [
    {
     "name": "stdout",
     "output_type": "stream",
     "text": [
      "[{'nombre': 'camisa', 'precio': 20, 'cantidad': 50}, {'nombre': 'pantalon', 'precio': 30, 'cantidad': 35}, {'nombre': 'zapatos', 'precio': 50, 'cantidad': 40}]\n"
     ]
    }
   ],
   "source": [
    "print(inventario)"
   ]
  },
  {
   "cell_type": "code",
   "execution_count": 8,
   "id": "5c4cdb67",
   "metadata": {},
   "outputs": [],
   "source": [
    "# mostrar inventario de productos con sus detalles\n",
    "\n",
    "def ver_inventario (inventario):\n",
    "    for producto in inventario:\n",
    "        print (f\" nombre:{producto [\"nombre\"]}, precio:{producto[\"precio\"]},cantidad:{producto[\"cantidad\"]}\")"
   ]
  },
  {
   "cell_type": "code",
   "execution_count": 9,
   "id": "b90bc04f",
   "metadata": {},
   "outputs": [
    {
     "name": "stdout",
     "output_type": "stream",
     "text": [
      "[{'nombre': 'camisa', 'precio': 20, 'cantidad': 50}, {'nombre': 'pantalon', 'precio': 30, 'cantidad': 35}, {'nombre': 'zapatos', 'precio': 50, 'cantidad': 40}]\n"
     ]
    }
   ],
   "source": [
    "print(inventario)"
   ]
  },
  {
   "cell_type": "code",
   "execution_count": 10,
   "id": "1f67f802",
   "metadata": {},
   "outputs": [
    {
     "name": "stdout",
     "output_type": "stream",
     "text": [
      " nombre:camisa, precio:20,cantidad:50\n",
      " nombre:pantalon, precio:30,cantidad:35\n",
      " nombre:zapatos, precio:50,cantidad:40\n"
     ]
    }
   ],
   "source": [
    "ver_inventario(inventario)"
   ]
  },
  {
   "cell_type": "code",
   "execution_count": 11,
   "id": "a5093716",
   "metadata": {},
   "outputs": [],
   "source": [
    "# buscar un producto en el inventario por el nombre\n",
    "\n",
    "def buscar_producto (nombre):\n",
    "    for producto in inventario:\n",
    "        if producto [\"nombre\"] == nombre:\n",
    "            return producto"
   ]
  },
  {
   "cell_type": "code",
   "execution_count": 12,
   "id": "18ac8e1b",
   "metadata": {},
   "outputs": [
    {
     "data": {
      "text/plain": [
       "{'nombre': 'camisa', 'precio': 20, 'cantidad': 50}"
      ]
     },
     "execution_count": 12,
     "metadata": {},
     "output_type": "execute_result"
    }
   ],
   "source": [
    "buscar_producto(\"camisa\")"
   ]
  },
  {
   "cell_type": "code",
   "execution_count": 13,
   "id": "5754c50f",
   "metadata": {},
   "outputs": [
    {
     "name": "stdout",
     "output_type": "stream",
     "text": [
      "[{'nombre': 'camisa', 'precio': 20, 'cantidad': 50}, {'nombre': 'pantalon', 'precio': 30, 'cantidad': 35}, {'nombre': 'zapatos', 'precio': 50, 'cantidad': 40}]\n"
     ]
    }
   ],
   "source": [
    "print(inventario)"
   ]
  },
  {
   "cell_type": "code",
   "execution_count": 14,
   "id": "916baa78",
   "metadata": {},
   "outputs": [],
   "source": [
    "# actualizar stock según nombre y cantidad\n",
    "\n",
    "def actualizar_stock(nombre,cantidad):\n",
    "    nombre_usuario = input(\"dime nombre del producto en stock\")\n",
    "    cantidad_usuario = int(input(\"dime cantidad a agregar\"))\n",
    "    for producto in inventario:\n",
    "        if producto [\"nombre\"] == nombre_usuario:\n",
    "            producto [\"cantidad\"] += cantidad_usuario\n",
    "            break\n",
    "    else:\n",
    "        print(\"el producto no esta en el inventario\")"
   ]
  },
  {
   "cell_type": "code",
   "execution_count": 15,
   "id": "9b8e3ed5",
   "metadata": {},
   "outputs": [
    {
     "name": "stdout",
     "output_type": "stream",
     "text": [
      "el producto no esta en el inventario\n"
     ]
    }
   ],
   "source": [
    "actualizar_stock(\"bufanda\",3)"
   ]
  },
  {
   "cell_type": "code",
   "execution_count": 16,
   "id": "a2bd7a7c",
   "metadata": {},
   "outputs": [],
   "source": [
    "actualizar_stock(\"camisa\",5)"
   ]
  },
  {
   "cell_type": "code",
   "execution_count": 17,
   "id": "6331f703",
   "metadata": {},
   "outputs": [
    {
     "name": "stdout",
     "output_type": "stream",
     "text": [
      "[{'nombre': 'camisa', 'precio': 20, 'cantidad': 55}, {'nombre': 'pantalon', 'precio': 30, 'cantidad': 35}, {'nombre': 'zapatos', 'precio': 50, 'cantidad': 40}]\n"
     ]
    }
   ],
   "source": [
    "print(inventario)"
   ]
  }
 ],
 "metadata": {
  "kernelspec": {
   "display_name": "Python 3",
   "language": "python",
   "name": "python3"
  },
  "language_info": {
   "codemirror_mode": {
    "name": "ipython",
    "version": 3
   },
   "file_extension": ".py",
   "mimetype": "text/x-python",
   "name": "python",
   "nbconvert_exporter": "python",
   "pygments_lexer": "ipython3",
   "version": "3.13.7"
  }
 },
 "nbformat": 4,
 "nbformat_minor": 5
}
