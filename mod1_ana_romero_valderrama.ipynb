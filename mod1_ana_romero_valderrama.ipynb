{
 "cells": [
  {
   "cell_type": "code",
   "execution_count": 1,
   "id": "fdf3a425",
   "metadata": {},
   "outputs": [],
   "source": [
    "## Estructuras de datos principales:\n",
    "inventario = []\n",
    "\n",
    "clientes = { 'Ana García': {'email': 'ana.garcia@email.com', 'compras': []}, \n",
    "    'Luis Fernández': {'email': 'luis.fernandez@email.com', 'compras': []}, \n",
    "    'María López': {'email': 'maria.lopez@email.com', 'compras': []}, \n",
    "    'Carlos Ruiz': {'email': 'carlos.ruiz@email.com', 'compras': []}, \n",
    "    'Elena Martín': {'email': 'elena.martin@email.com', 'compras': []}, \n",
    "    'Javier Torres': {'email': 'javier.torres@email.com', 'compras': []}, \n",
    "    'Lucía Sánchez': {'email': 'lucia.sanchez@email.com', 'compras': []}, \n",
    "    'Sergio Díaz': {'email': 'sergio.diaz@email.com', 'compras': []}, \n",
    "    'Patricia Ramos': {'email': 'patricia.ramos@email.com', 'compras':[]}, \n",
    "    'Diego Navarro': {'email': 'diego.navarro@email.com', 'compras': []} } \n",
    "\n",
    "ventas_totales = 0.0\n"
   ]
  },
  {
   "cell_type": "code",
   "execution_count": 2,
   "id": "5c5132b1",
   "metadata": {},
   "outputs": [
    {
     "name": "stdout",
     "output_type": "stream",
     "text": [
      "[]\n",
      "{'Ana García': {'email': 'ana.garcia@email.com', 'compras': []}, 'Luis Fernández': {'email': 'luis.fernandez@email.com', 'compras': []}, 'María López': {'email': 'maria.lopez@email.com', 'compras': []}, 'Carlos Ruiz': {'email': 'carlos.ruiz@email.com', 'compras': []}, 'Elena Martín': {'email': 'elena.martin@email.com', 'compras': []}, 'Javier Torres': {'email': 'javier.torres@email.com', 'compras': []}, 'Lucía Sánchez': {'email': 'lucia.sanchez@email.com', 'compras': []}, 'Sergio Díaz': {'email': 'sergio.diaz@email.com', 'compras': []}, 'Patricia Ramos': {'email': 'patricia.ramos@email.com', 'compras': []}, 'Diego Navarro': {'email': 'diego.navarro@email.com', 'compras': []}}\n",
      "0.0\n"
     ]
    }
   ],
   "source": [
    "print(inventario)\n",
    "print(clientes)\n",
    "print(ventas_totales)"
   ]
  },
  {
   "cell_type": "code",
   "execution_count": 3,
   "id": "7b2b87d3",
   "metadata": {},
   "outputs": [],
   "source": [
    "# 1.1 Agregar un producto al inventario o actualizarlo si ya existe.\n",
    "\n",
    "def agregar_producto (nombre,precio,cantidad):\n",
    "    #Recorro cada producto del inventario para ver si existe o no.\n",
    "    for producto in inventario:\n",
    "        # Si el producto existe se incrementa la cantidad actualizando stock.\n",
    "        if producto [\"nombre\"] == nombre:\n",
    "            producto [\"cantidad\"] += cantidad\n",
    "            return f\" Stock actualizado para el producto {nombre}\"\n",
    "        #Si el producto no existe en el inventario se crea uno nuevo.\n",
    "    nuevo_producto = {\"nombre\":nombre,\n",
    "                      \"precio\":precio,\n",
    "                      \"cantidad\":cantidad}\n",
    "    # Se añade el nuevo producto al inventario.\n",
    "    inventario.append(nuevo_producto)\n",
    "    return f\"Producto {nombre} añadido\""
   ]
  },
  {
   "cell_type": "code",
   "execution_count": 4,
   "id": "dcd4a7d6",
   "metadata": {},
   "outputs": [
    {
     "data": {
      "text/plain": [
       "'Producto camisa añadido'"
      ]
     },
     "execution_count": 4,
     "metadata": {},
     "output_type": "execute_result"
    }
   ],
   "source": [
    "agregar_producto(\"camisa\",20,10)"
   ]
  },
  {
   "cell_type": "code",
   "execution_count": 5,
   "id": "1f426809",
   "metadata": {},
   "outputs": [
    {
     "data": {
      "text/plain": [
       "'Producto pantalon añadido'"
      ]
     },
     "execution_count": 5,
     "metadata": {},
     "output_type": "execute_result"
    }
   ],
   "source": [
    "agregar_producto(\"pantalon\",30,20)"
   ]
  },
  {
   "cell_type": "code",
   "execution_count": 6,
   "id": "67360305",
   "metadata": {},
   "outputs": [
    {
     "data": {
      "text/plain": [
       "'Producto zapatos añadido'"
      ]
     },
     "execution_count": 6,
     "metadata": {},
     "output_type": "execute_result"
    }
   ],
   "source": [
    "agregar_producto(\"zapatos\",50,30)"
   ]
  },
  {
   "cell_type": "code",
   "execution_count": 7,
   "id": "d782c7b0",
   "metadata": {},
   "outputs": [
    {
     "data": {
      "text/plain": [
       "'Producto falda añadido'"
      ]
     },
     "execution_count": 7,
     "metadata": {},
     "output_type": "execute_result"
    }
   ],
   "source": [
    "agregar_producto(\"falda\",25,15)"
   ]
  },
  {
   "cell_type": "code",
   "execution_count": 8,
   "id": "8a35f781",
   "metadata": {},
   "outputs": [
    {
     "data": {
      "text/plain": [
       "'Producto bolso añadido'"
      ]
     },
     "execution_count": 8,
     "metadata": {},
     "output_type": "execute_result"
    }
   ],
   "source": [
    "agregar_producto(\"bolso\",15,5)"
   ]
  },
  {
   "cell_type": "code",
   "execution_count": 9,
   "id": "e2644de1",
   "metadata": {},
   "outputs": [
    {
     "name": "stdout",
     "output_type": "stream",
     "text": [
      "[{'nombre': 'camisa', 'precio': 20, 'cantidad': 10}, {'nombre': 'pantalon', 'precio': 30, 'cantidad': 20}, {'nombre': 'zapatos', 'precio': 50, 'cantidad': 30}, {'nombre': 'falda', 'precio': 25, 'cantidad': 15}, {'nombre': 'bolso', 'precio': 15, 'cantidad': 5}]\n"
     ]
    }
   ],
   "source": [
    "#Compruebo que se han añadido todos los productos al inventario\n",
    "print(inventario)"
   ]
  },
  {
   "cell_type": "code",
   "execution_count": 10,
   "id": "5337fd91",
   "metadata": {},
   "outputs": [
    {
     "data": {
      "text/plain": [
       "' Stock actualizado para el producto bolso'"
      ]
     },
     "execution_count": 10,
     "metadata": {},
     "output_type": "execute_result"
    }
   ],
   "source": [
    "#Actualizo la cantidad de un producto en el inventario\n",
    "agregar_producto(\"bolso\",15,2)"
   ]
  },
  {
   "cell_type": "code",
   "execution_count": 11,
   "id": "6ca009b6",
   "metadata": {},
   "outputs": [
    {
     "data": {
      "text/plain": [
       "' Stock actualizado para el producto bolso'"
      ]
     },
     "execution_count": 11,
     "metadata": {},
     "output_type": "execute_result"
    }
   ],
   "source": [
    "# Actualizo la cantidad de un producto donde el precio es distinto.\n",
    "agregar_producto(\"bolso\",4,1)"
   ]
  },
  {
   "cell_type": "code",
   "execution_count": 12,
   "id": "fde07e03",
   "metadata": {},
   "outputs": [
    {
     "name": "stdout",
     "output_type": "stream",
     "text": [
      "[{'nombre': 'camisa', 'precio': 20, 'cantidad': 10}, {'nombre': 'pantalon', 'precio': 30, 'cantidad': 20}, {'nombre': 'zapatos', 'precio': 50, 'cantidad': 30}, {'nombre': 'falda', 'precio': 25, 'cantidad': 15}, {'nombre': 'bolso', 'precio': 15, 'cantidad': 8}]\n"
     ]
    }
   ],
   "source": [
    "#Compruebo que se han actualizado los productos en el inventario\n",
    "print(inventario)"
   ]
  },
  {
   "cell_type": "code",
   "execution_count": 13,
   "id": "5c4cdb67",
   "metadata": {},
   "outputs": [],
   "source": [
    "# 1.2 Mostrar inventario de productos con sus detalles\n",
    "\n",
    "def ver_inventario (inventario):\n",
    "    #Recorro cada producto del inventario y muestro cada uno con sus detalles.\n",
    "    for producto in inventario:\n",
    "        print (f\" nombre:{producto [\"nombre\"]}, precio:{producto[\"precio\"]},cantidad:{producto[\"cantidad\"]}\")"
   ]
  },
  {
   "cell_type": "code",
   "execution_count": 14,
   "id": "1f67f802",
   "metadata": {},
   "outputs": [
    {
     "name": "stdout",
     "output_type": "stream",
     "text": [
      " nombre:camisa, precio:20,cantidad:10\n",
      " nombre:pantalon, precio:30,cantidad:20\n",
      " nombre:zapatos, precio:50,cantidad:30\n",
      " nombre:falda, precio:25,cantidad:15\n",
      " nombre:bolso, precio:15,cantidad:8\n"
     ]
    }
   ],
   "source": [
    "#Compruebo que la función es correcta\n",
    "ver_inventario(inventario)"
   ]
  },
  {
   "cell_type": "code",
   "execution_count": 15,
   "id": "a5093716",
   "metadata": {},
   "outputs": [],
   "source": [
    "# 1.3 Buscar un producto en el inventario por el nombre\n",
    "\n",
    "def buscar_producto (nombre):\n",
    "    #Recorro cada producto del inventario.\n",
    "    for producto in inventario:\n",
    "        # Si el nombre existe en el inventario se muestra el producto con sus detalles.\n",
    "        if producto [\"nombre\"] == nombre:\n",
    "            return producto  # cuando encuentra el nombre el bucle se para\n",
    "    # Si el producto no existe se muestra mensaje indicándolo.\n",
    "    else:\n",
    "        return f\"producto {nombre} no encontrado\""
   ]
  },
  {
   "cell_type": "code",
   "execution_count": 16,
   "id": "18ac8e1b",
   "metadata": {},
   "outputs": [
    {
     "data": {
      "text/plain": [
       "{'nombre': 'camisa', 'precio': 20, 'cantidad': 10}"
      ]
     },
     "execution_count": 16,
     "metadata": {},
     "output_type": "execute_result"
    }
   ],
   "source": [
    "buscar_producto(\"camisa\")"
   ]
  },
  {
   "cell_type": "code",
   "execution_count": 17,
   "id": "8ca3970c",
   "metadata": {},
   "outputs": [
    {
     "data": {
      "text/plain": [
       "'producto bufanda no encontrado'"
      ]
     },
     "execution_count": 17,
     "metadata": {},
     "output_type": "execute_result"
    }
   ],
   "source": [
    "buscar_producto(\"bufanda\")"
   ]
  },
  {
   "cell_type": "code",
   "execution_count": 18,
   "id": "5754c50f",
   "metadata": {},
   "outputs": [
    {
     "name": "stdout",
     "output_type": "stream",
     "text": [
      "[{'nombre': 'camisa', 'precio': 20, 'cantidad': 10}, {'nombre': 'pantalon', 'precio': 30, 'cantidad': 20}, {'nombre': 'zapatos', 'precio': 50, 'cantidad': 30}, {'nombre': 'falda', 'precio': 25, 'cantidad': 15}, {'nombre': 'bolso', 'precio': 15, 'cantidad': 8}]\n"
     ]
    }
   ],
   "source": [
    "#Compruebo estado del inventario\n",
    "print(inventario)"
   ]
  },
  {
   "cell_type": "code",
   "execution_count": 19,
   "id": "916baa78",
   "metadata": {},
   "outputs": [],
   "source": [
    "# 1.4 Actualizar stock según nombre y cantidad\n",
    "\n",
    "def actualizar_stock(nombre,cantidad):\n",
    "\n",
    "    #Pregunto al usuario nombre y cantidad del producto que quiere actualizar.\n",
    "    nombre_usuario = input(\"dime nombre del producto en stock\")\n",
    "    cantidad_usuario = int(input(\"dime cantidad a agregar\"))\n",
    "\n",
    "     #Compruebo que el nombre del producto existe en el inventario.\n",
    "     #Convierto en minúscula por si el usuario introduce en mayúsculas.\n",
    "    for producto in inventario:\n",
    "        if producto [\"nombre\"].lower() == nombre_usuario.lower():\n",
    "            producto [\"cantidad\"] += cantidad_usuario\n",
    "            print (f\"Se ha actualizado el producto {producto[\"nombre\"]}\")\n",
    "                   \n",
    "            break# Paro el bucle porque ya ha encontrado el nombre.\n",
    "            \n",
    "    else:#Muestro el mensaje informando que no existe el producto en el inventario.\n",
    "        print (f\" El producto {nombre_usuario} no esta en el inventario\")"
   ]
  },
  {
   "cell_type": "code",
   "execution_count": 20,
   "id": "1033e3fe",
   "metadata": {},
   "outputs": [
    {
     "name": "stdout",
     "output_type": "stream",
     "text": [
      " El producto abrigo no esta en el inventario\n"
     ]
    }
   ],
   "source": [
    "actualizar_stock(\"abrigo\",3)"
   ]
  },
  {
   "cell_type": "code",
   "execution_count": 21,
   "id": "a2bd7a7c",
   "metadata": {},
   "outputs": [
    {
     "name": "stdout",
     "output_type": "stream",
     "text": [
      "Se ha actualizado el producto camisa\n"
     ]
    }
   ],
   "source": [
    "actualizar_stock(\"camisa\",5)"
   ]
  },
  {
   "cell_type": "code",
   "execution_count": 22,
   "id": "6331f703",
   "metadata": {},
   "outputs": [
    {
     "name": "stdout",
     "output_type": "stream",
     "text": [
      "[{'nombre': 'camisa', 'precio': 20, 'cantidad': 15}, {'nombre': 'pantalon', 'precio': 30, 'cantidad': 20}, {'nombre': 'zapatos', 'precio': 50, 'cantidad': 30}, {'nombre': 'falda', 'precio': 25, 'cantidad': 15}, {'nombre': 'bolso', 'precio': 15, 'cantidad': 8}]\n"
     ]
    }
   ],
   "source": [
    "#Compruebo que se ha actualizado bien el stock\n",
    "print(inventario)"
   ]
  },
  {
   "cell_type": "code",
   "execution_count": 23,
   "id": "914d3360",
   "metadata": {},
   "outputs": [],
   "source": [
    "# 1.5 Eliminar un producto del inventario buscandolo por su nombre\n",
    "\n",
    "def eliminar_producto (nombre):\n",
    "    # Recorro cada producto para comprobar que el nombre existe.\n",
    "    for producto in inventario:\n",
    "        # Si el nombre existe lo elimino del inventario y muestro mensaje indicándolo.\n",
    "        if producto [\"nombre\"] == nombre:\n",
    "            inventario.remove(producto)\n",
    "            print(f\" {producto[\"nombre\"]} se ha eliminado del inventario\")\n",
    "            break # Para el bucle porque ya encontró el nombre.\n",
    "    else: # Se ejecuta si no se encontró el nombre.\n",
    "            print(f\"Error el producto no existe en el inventario\")\n",
    "        "
   ]
  },
  {
   "cell_type": "code",
   "execution_count": 24,
   "id": "95636418",
   "metadata": {},
   "outputs": [
    {
     "name": "stdout",
     "output_type": "stream",
     "text": [
      " camisa se ha eliminado del inventario\n"
     ]
    }
   ],
   "source": [
    "# Compruebo la función\n",
    "eliminar_producto(\"camisa\")"
   ]
  },
  {
   "cell_type": "code",
   "execution_count": 25,
   "id": "43641c18",
   "metadata": {},
   "outputs": [
    {
     "name": "stdout",
     "output_type": "stream",
     "text": [
      "[{'nombre': 'pantalon', 'precio': 30, 'cantidad': 20}, {'nombre': 'zapatos', 'precio': 50, 'cantidad': 30}, {'nombre': 'falda', 'precio': 25, 'cantidad': 15}, {'nombre': 'bolso', 'precio': 15, 'cantidad': 8}]\n"
     ]
    }
   ],
   "source": [
    "#Compruebo si se ha eliminado del inventario camisa\n",
    "print(inventario)"
   ]
  },
  {
   "cell_type": "code",
   "execution_count": 26,
   "id": "ae2e5068",
   "metadata": {},
   "outputs": [
    {
     "name": "stdout",
     "output_type": "stream",
     "text": [
      "Error el producto no existe en el inventario\n"
     ]
    }
   ],
   "source": [
    "# Compruebo el mensaje si introduzo el nombre de un producto que no existe en el inventario.\n",
    "eliminar_producto(\"bufanda\")"
   ]
  },
  {
   "cell_type": "code",
   "execution_count": 27,
   "id": "9adc23d1",
   "metadata": {},
   "outputs": [
    {
     "name": "stdout",
     "output_type": "stream",
     "text": [
      "[{'nombre': 'pantalon', 'precio': 30, 'cantidad': 20}, {'nombre': 'zapatos', 'precio': 50, 'cantidad': 30}, {'nombre': 'falda', 'precio': 25, 'cantidad': 15}, {'nombre': 'bolso', 'precio': 15, 'cantidad': 8}]\n"
     ]
    }
   ],
   "source": [
    "#Compruebo estado del inventario\n",
    "print(inventario)"
   ]
  },
  {
   "cell_type": "code",
   "execution_count": 28,
   "id": "ce0b7724",
   "metadata": {},
   "outputs": [],
   "source": [
    "# 1.6 Calcular el valor total del inventario y el valor de cada producto\n",
    "\n",
    "def valor_inventario (inventario):\n",
    "    total = 0 # creo variable total para calcular el valor del inventario.\n",
    "    # Recorro cada producto del inventario para calcular su valor.\n",
    "    for producto in inventario:\n",
    "        valor_producto = producto [\"precio\"] * producto [\"cantidad\"]\n",
    "        print(f\"el valor de {producto[\"nombre\"]} es {producto[\"precio\"]} x {producto [\"cantidad\"]} = {valor_producto}\")\n",
    "        total += valor_producto\n",
    "        #Termina la función y devuelvo el valor total del inventario\n",
    "    return f\"el valor total del inventario es {total}\""
   ]
  },
  {
   "cell_type": "code",
   "execution_count": 29,
   "id": "60311629",
   "metadata": {},
   "outputs": [
    {
     "name": "stdout",
     "output_type": "stream",
     "text": [
      "el valor de pantalon es 30 x 20 = 600\n",
      "el valor de zapatos es 50 x 30 = 1500\n",
      "el valor de falda es 25 x 15 = 375\n",
      "el valor de bolso es 15 x 8 = 120\n"
     ]
    },
    {
     "data": {
      "text/plain": [
       "'el valor total del inventario es 2595'"
      ]
     },
     "execution_count": 29,
     "metadata": {},
     "output_type": "execute_result"
    }
   ],
   "source": [
    "valor_inventario(inventario)"
   ]
  }
 ],
 "metadata": {
  "kernelspec": {
   "display_name": "Python 3",
   "language": "python",
   "name": "python3"
  },
  "language_info": {
   "codemirror_mode": {
    "name": "ipython",
    "version": 3
   },
   "file_extension": ".py",
   "mimetype": "text/x-python",
   "name": "python",
   "nbconvert_exporter": "python",
   "pygments_lexer": "ipython3",
   "version": "3.13.7"
  }
 },
 "nbformat": 4,
 "nbformat_minor": 5
}
